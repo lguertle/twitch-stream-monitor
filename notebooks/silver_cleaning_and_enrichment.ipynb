{
 "cells": [
  {
   "cell_type": "code",
   "execution_count": 0,
   "metadata": {
    "application/vnd.databricks.v1+cell": {
     "cellMetadata": {
      "byteLimit": 2048000,
      "rowLimit": 10000
     },
     "inputWidgets": {},
     "nuid": "1769fd0d-c4f5-434f-92d9-64413b03b792",
     "showTitle": false,
     "tableResultSettingsMap": {},
     "title": ""
    }
   },
   "outputs": [],
   "source": [
    "CREATE LIVE TABLE silver_streamers\n",
    "AS\n",
    "SELECT\n",
    "  user_id,\n",
    "  LOWER(username) AS username,\n",
    "  display_name,\n",
    "  user_type AS type,\n",
    "  broadcaster_type,\n",
    "  description,\n",
    "  profile_image_url,\n",
    "  offline_image_url,\n",
    "  CAST(account_created_at AS TIMESTAMP) AS account_created_at,\n",
    "  followers_count,\n",
    "  broadcaster_language,\n",
    "  current_game_id AS game_id,\n",
    "  current_game_name AS game_name,\n",
    "  current_title AS title,\n",
    "  stream_delay AS delay,\n",
    "  data_collection_time,\n",
    "  collection_date,\n",
    "  ROUND(DATEDIFF(current_timestamp(), CAST(account_created_at AS TIMESTAMP)) / 365.0, 2) AS account_age_years,\n",
    "  CASE WHEN broadcaster_type = 'affiliate' THEN true ELSE false END AS is_affiliate,\n",
    "  CASE WHEN broadcaster_type = 'partner' THEN true ELSE false END AS is_partner\n",
    "FROM LIVE.bronze_streamers;"
   ]
  },
  {
   "cell_type": "code",
   "execution_count": 0,
   "metadata": {
    "application/vnd.databricks.v1+cell": {
     "cellMetadata": {
      "byteLimit": 2048000,
      "rowLimit": 10000
     },
     "inputWidgets": {},
     "nuid": "8257a234-5415-41ac-9507-24142adf41c0",
     "showTitle": false,
     "tableResultSettingsMap": {},
     "title": ""
    }
   },
   "outputs": [],
   "source": [
    "CREATE LIVE TABLE silver_streams\n",
    "AS\n",
    "SELECT\n",
    "  id,\n",
    "  user_id,\n",
    "  LOWER(user_login) AS username,\n",
    "  user_name,\n",
    "  game_id,\n",
    "  game_name,\n",
    "  type,\n",
    "  title,\n",
    "  viewer_count,\n",
    "  CAST(started_at AS TIMESTAMP) AS stream_start_time,\n",
    "  language,\n",
    "  thumbnail_url,\n",
    "  tag_ids,\n",
    "  tags,\n",
    "  is_mature,\n",
    "  ingestion_time,\n",
    "  ingestion_date,\n",
    "  ROUND((unix_timestamp(ingestion_time) - unix_timestamp(CAST(started_at AS TIMESTAMP))) / 60.0, 2) AS stream_duration_minutes,\n",
    "  CASE\n",
    "    WHEN ROUND((unix_timestamp(ingestion_time) - unix_timestamp(CAST(started_at AS TIMESTAMP))) / 60.0, 2) > 0\n",
    "    THEN viewer_count / ROUND((unix_timestamp(ingestion_time) - unix_timestamp(CAST(started_at AS TIMESTAMP))) / 60.0, 2)\n",
    "    ELSE NULL\n",
    "  END AS viewers_per_minute\n",
    "FROM LIVE.bronze_streams;"
   ]
  },
  {
   "cell_type": "code",
   "execution_count": 0,
   "metadata": {
    "application/vnd.databricks.v1+cell": {
     "cellMetadata": {
      "byteLimit": 2048000,
      "rowLimit": 10000
     },
     "inputWidgets": {},
     "nuid": "6dd03765-2239-4091-a02d-903afd82c4f4",
     "showTitle": false,
     "tableResultSettingsMap": {},
     "title": ""
    }
   },
   "outputs": [],
   "source": [
    "CREATE LIVE TABLE silver_joined_data\n",
    "AS\n",
    "SELECT\n",
    "  s.user_id,\n",
    "  s.username,\n",
    "  s.display_name,\n",
    "  s.account_created_at,\n",
    "  s.account_age_years,\n",
    "  s.followers_count,\n",
    "  st.viewer_count,\n",
    "  st.stream_duration_minutes,\n",
    "  st.viewers_per_minute,\n",
    "  st.title,\n",
    "  st.game_name,\n",
    "  st.language,\n",
    "  st.is_mature,\n",
    "  st.ingestion_time\n",
    "FROM LIVE.silver_streamers s\n",
    "JOIN LIVE.silver_streams st ON s.user_id = st.user_id;"
   ]
  }
 ],
 "metadata": {
  "application/vnd.databricks.v1+notebook": {
   "computePreferences": null,
   "dashboards": [],
   "environmentMetadata": {
    "base_environment": "",
    "environment_version": "2"
   },
   "inputWidgetPreferences": null,
   "language": "sql",
   "notebookMetadata": {
    "pythonIndentUnit": 4
   },
   "notebookName": "silver_cleaning_and_enrichment",
   "widgets": {}
  },
  "language_info": {
   "name": "sql"
  }
 },
 "nbformat": 4,
 "nbformat_minor": 0
}

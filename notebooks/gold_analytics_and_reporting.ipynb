{
 "cells": [
  {
   "cell_type": "code",
   "execution_count": 0,
   "metadata": {
    "application/vnd.databricks.v1+cell": {
     "cellMetadata": {
      "byteLimit": 2048000,
      "rowLimit": 10000
     },
     "inputWidgets": {},
     "nuid": "658801e7-48eb-4432-9dba-63c607575dce",
     "showTitle": false,
     "tableResultSettingsMap": {},
     "title": ""
    }
   },
   "outputs": [],
   "source": [
    "CREATE LIVE TABLE gold_top_games_daily\n",
    "AS\n",
    "SELECT\n",
    "  ingestion_date,\n",
    "  game_name,\n",
    "  COUNT(DISTINCT username) AS streamer_count,\n",
    "  SUM(viewer_count) AS total_viewers,\n",
    "  ROUND(AVG(viewers_per_minute), 2) AS avg_viewers_per_minute\n",
    "FROM LIVE.silver_streams\n",
    "WHERE game_name IS NOT NULL AND viewer_count > 0\n",
    "GROUP BY ingestion_date, game_name;"
   ]
  },
  {
   "cell_type": "code",
   "execution_count": 0,
   "metadata": {
    "application/vnd.databricks.v1+cell": {
     "cellMetadata": {
      "byteLimit": 2048000,
      "rowLimit": 10000
     },
     "inputWidgets": {},
     "nuid": "d82e1388-11be-44f7-b843-af5915f8e8af",
     "showTitle": false,
     "tableResultSettingsMap": {},
     "title": ""
    }
   },
   "outputs": [],
   "source": [
    "CREATE LIVE TABLE gold_streamer_performance\n",
    "AS\n",
    "SELECT\n",
    "  username,\n",
    "  display_name,\n",
    "  MAX(account_age_years) AS account_age_years,\n",
    "  MAX(followers_count) AS total_followers,\n",
    "  COUNT(*) AS live_appearances,\n",
    "  ROUND(AVG(viewer_count), 2) AS avg_viewers,\n",
    "  ROUND(AVG(viewers_per_minute), 2) AS avg_viewers_per_minute,\n",
    "  MAX(ingestion_time) AS last_seen\n",
    "FROM LIVE.silver_joined_data\n",
    "GROUP BY username, display_name;"
   ]
  },
  {
   "cell_type": "code",
   "execution_count": 0,
   "metadata": {
    "application/vnd.databricks.v1+cell": {
     "cellMetadata": {
      "byteLimit": 2048000,
      "rowLimit": 10000
     },
     "inputWidgets": {},
     "nuid": "5e9af665-13be-4b9e-b467-a590bcc0a42a",
     "showTitle": false,
     "tableResultSettingsMap": {},
     "title": ""
    }
   },
   "outputs": [],
   "source": [
    "CREATE LIVE TABLE gold_hourly_viewership_trend\n",
    "AS\n",
    "SELECT\n",
    "  ingestion_date,\n",
    "  HOUR(ingestion_time) AS hour,\n",
    "  game_name,\n",
    "  COUNT(*) AS streams,\n",
    "  SUM(viewer_count) AS total_viewers\n",
    "FROM LIVE.silver_streams\n",
    "GROUP BY ingestion_date, HOUR(ingestion_time), game_name;"
   ]
  },
  {
   "cell_type": "code",
   "execution_count": 0,
   "metadata": {
    "application/vnd.databricks.v1+cell": {
     "cellMetadata": {
      "byteLimit": 2048000,
      "rowLimit": 10000
     },
     "inputWidgets": {},
     "nuid": "f302ec39-a429-44a9-bc21-926c259b783d",
     "showTitle": false,
     "tableResultSettingsMap": {},
     "title": ""
    }
   },
   "outputs": [],
   "source": [
    "CREATE LIVE TABLE gold_streamer_followers_history\n",
    "COMMENT \"Hourly snapshot of streamer followers for trend analysis\"\n",
    "TBLPROPERTIES (\"quality\" = \"gold\")\n",
    "AS\n",
    "SELECT\n",
    "  user_id,\n",
    "  username,\n",
    "  followers_count,\n",
    "  data_collection_time,\n",
    "  collection_date\n",
    "FROM LIVE.silver_streamers;"
   ]
  },
  {
   "cell_type": "code",
   "execution_count": 0,
   "metadata": {
    "application/vnd.databricks.v1+cell": {
     "cellMetadata": {},
     "inputWidgets": {},
     "nuid": "765686ee-2c90-4ad6-a6ba-d6bff81f163d",
     "showTitle": false,
     "tableResultSettingsMap": {},
     "title": ""
    }
   },
   "outputs": [],
   "source": [
    "CREATE LIVE TABLE gold_streamer_follower_deltas\n",
    "COMMENT \"Hourly follower count changes per streamer\"\n",
    "TBLPROPERTIES (\"quality\" = \"gold\")\n",
    "AS\n",
    "WITH calculated_deltas AS (\n",
    "  SELECT\n",
    "    user_id,\n",
    "    username,\n",
    "    followers_count,\n",
    "    data_collection_time,\n",
    "    collection_date,\n",
    "    followers_count - LAG(followers_count) OVER (\n",
    "      PARTITION BY user_id ORDER BY data_collection_time\n",
    "    ) AS followers_delta,\n",
    "    LAG(data_collection_time) OVER (\n",
    "      PARTITION BY user_id ORDER BY data_collection_time\n",
    "    ) AS previous_collection_time\n",
    "  FROM LIVE.gold_streamer_followers_history\n",
    ")\n",
    "SELECT\n",
    "  *\n",
    "FROM calculated_deltas\n",
    "WHERE followers_delta IS NOT NULL;"
   ]
  },
  {
   "cell_type": "code",
   "execution_count": 0,
   "metadata": {
    "application/vnd.databricks.v1+cell": {
     "cellMetadata": {},
     "inputWidgets": {},
     "nuid": "804b3e6e-ad9c-4e74-958a-f3dee0fe2cf2",
     "showTitle": false,
     "tableResultSettingsMap": {},
     "title": ""
    }
   },
   "outputs": [],
   "source": [
    "CREATE LIVE TABLE gold_avg_daily_follower_growth\n",
    "COMMENT \"Average daily follower growth per streamer\"\n",
    "TBLPROPERTIES (\"quality\" = \"gold\")\n",
    "AS\n",
    "SELECT\n",
    "  user_id,\n",
    "  username,\n",
    "  MIN(followers_count) AS min_followers,\n",
    "  MAX(followers_count) AS max_followers,\n",
    "  MIN(data_collection_time) AS first_snapshot,\n",
    "  MAX(data_collection_time) AS last_snapshot,\n",
    "  DATEDIFF(MAX(data_collection_time), MIN(data_collection_time)) AS days_observed,\n",
    "  CASE \n",
    "    WHEN DATEDIFF(MAX(data_collection_time), MIN(data_collection_time)) > 0 \n",
    "    THEN ROUND(\n",
    "      (MAX(followers_count) - MIN(followers_count)) / \n",
    "      DATEDIFF(MAX(data_collection_time), MIN(data_collection_time)), 2)\n",
    "    ELSE NULL\n",
    "  END AS avg_daily_follower_growth\n",
    "FROM LIVE.gold_streamer_followers_history\n",
    "GROUP BY user_id, username;"
   ]
  }
 ],
 "metadata": {
  "application/vnd.databricks.v1+notebook": {
   "computePreferences": null,
   "dashboards": [],
   "environmentMetadata": {
    "base_environment": "",
    "environment_version": "2"
   },
   "inputWidgetPreferences": null,
   "language": "sql",
   "notebookMetadata": {
    "pythonIndentUnit": 4
   },
   "notebookName": "gold_analytics_and_reporting",
   "widgets": {}
  },
  "language_info": {
   "name": "sql"
  }
 },
 "nbformat": 4,
 "nbformat_minor": 0
}
